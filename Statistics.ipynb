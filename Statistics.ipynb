{
 "cells": [
  {
   "cell_type": "code",
   "execution_count": 20,
   "metadata": {},
   "outputs": [
    {
     "name": "stdout",
     "output_type": "stream",
     "text": [
      "Mean of [1, 2, 3] is 2.0\n",
      "Mean of [1, 2, 3, 4] is 2.5\n",
      "Mean of [1, 1, 1, 10] is 3.25\n"
     ]
    }
   ],
   "source": [
    "def mean(nums):\n",
    "    \"\"\"\n",
    "    ==================================================\n",
    "     Description: Central value of a list of numbers\n",
    "    --------------------------------------------------\n",
    "        1. Summarize the numbers in the list.\n",
    "        2. Divide the Sum by the length of the list.\n",
    "    ==================================================\n",
    "     Arguments: nums : list of int\n",
    "    ==================================================\n",
    "     Returns: float (Mean of the List)\n",
    "    ==================================================           \n",
    "    \"\"\"\n",
    "    return sum(nums)/len(nums)\n",
    "\n",
    "nums = [1,2,3]\n",
    "print('Mean of {0} is {1}'.format(nums,mean(nums)))\n",
    "nums = [1,2,3,4]\n",
    "print('Mean of {0} is {1}'.format(nums,mean(nums)))\n",
    "nums = [1,1,1,10]\n",
    "print('Mean of {0} is {1}'.format(nums,mean(nums)))"
   ]
  },
  {
   "cell_type": "code",
   "execution_count": 2,
   "metadata": {},
   "outputs": [
    {
     "ename": "TypeError",
     "evalue": "object of type 'NoneType' has no len()",
     "output_type": "error",
     "traceback": [
      "\u001b[1;31m---------------------------------------------------------------------------\u001b[0m",
      "\u001b[1;31mTypeError\u001b[0m                                 Traceback (most recent call last)",
      "\u001b[1;32m<ipython-input-2-107272a81f61>\u001b[0m in \u001b[0;36m<module>\u001b[1;34m()\u001b[0m\n\u001b[0;32m     51\u001b[0m \u001b[1;33m\u001b[0m\u001b[0m\n\u001b[0;32m     52\u001b[0m \u001b[0mnums\u001b[0m \u001b[1;33m=\u001b[0m \u001b[1;33m[\u001b[0m\u001b[1;36m1\u001b[0m\u001b[1;33m,\u001b[0m\u001b[1;36m2\u001b[0m\u001b[1;33m,\u001b[0m\u001b[1;36m3\u001b[0m\u001b[1;33m,\u001b[0m\u001b[1;36m4\u001b[0m\u001b[1;33m,\u001b[0m\u001b[1;36m5\u001b[0m\u001b[1;33m]\u001b[0m\u001b[1;33m\u001b[0m\u001b[0m\n\u001b[1;32m---> 53\u001b[1;33m \u001b[0mprint\u001b[0m\u001b[1;33m(\u001b[0m\u001b[0mmed\u001b[0m\u001b[1;33m(\u001b[0m\u001b[0mnums\u001b[0m\u001b[1;33m)\u001b[0m\u001b[1;33m)\u001b[0m\u001b[1;33m\u001b[0m\u001b[0m\n\u001b[0m",
      "\u001b[1;32m<ipython-input-2-107272a81f61>\u001b[0m in \u001b[0;36mmed\u001b[1;34m(nums)\u001b[0m\n\u001b[0;32m     14\u001b[0m     \"\"\"\n\u001b[0;32m     15\u001b[0m     \u001b[0mnums\u001b[0m \u001b[1;33m=\u001b[0m \u001b[0mnums\u001b[0m\u001b[1;33m.\u001b[0m\u001b[0msort\u001b[0m\u001b[1;33m(\u001b[0m\u001b[1;33m)\u001b[0m\u001b[1;33m\u001b[0m\u001b[0m\n\u001b[1;32m---> 16\u001b[1;33m     \u001b[1;32mif\u001b[0m \u001b[1;33m(\u001b[0m\u001b[0mlen\u001b[0m\u001b[1;33m(\u001b[0m\u001b[0mnums\u001b[0m\u001b[1;33m)\u001b[0m \u001b[1;33m%\u001b[0m \u001b[1;36m2\u001b[0m\u001b[1;33m)\u001b[0m \u001b[1;33m==\u001b[0m \u001b[1;36m0\u001b[0m\u001b[1;33m:\u001b[0m\u001b[1;33m\u001b[0m\u001b[0m\n\u001b[0m\u001b[0;32m     17\u001b[0m         \u001b[1;32mreturn\u001b[0m \u001b[0m_med_even\u001b[0m\u001b[1;33m(\u001b[0m\u001b[0mnums\u001b[0m\u001b[1;33m)\u001b[0m\u001b[1;33m\u001b[0m\u001b[0m\n\u001b[0;32m     18\u001b[0m     \u001b[1;32melse\u001b[0m\u001b[1;33m:\u001b[0m\u001b[1;33m\u001b[0m\u001b[0m\n",
      "\u001b[1;31mTypeError\u001b[0m: object of type 'NoneType' has no len()"
     ]
    }
   ],
   "source": [
    "def med(nums):\n",
    "    \"\"\"\n",
    "    ====================================================\n",
    "     Description: Middle value of a list of numbers.\n",
    "    ----------------------------------------------------\n",
    "        1. Sort the nums in ascending order.\n",
    "        2. If nums is even-length list, then the\n",
    "            median is the mean of two middle values\n",
    "            of the list.\n",
    "        3. Else, if nums is odd-length list, then the\n",
    "            median is the middle value of the list.\n",
    "        4. Eventually, half values will fall below the\n",
    "            median, and half values will fall above.\n",
    "    ====================================================\n",
    "     Arguments: nums (list of int)\n",
    "    ====================================================\n",
    "     Returs: float (Median of the List)\n",
    "    ====================================================\n",
    "    \"\"\"\n",
    "    nums.sort()\n",
    "    if (len(nums) % 2) == 0:\n",
    "        return _med_even(nums)\n",
    "    else:\n",
    "        return _med_odd(nums)\n",
    "        \n",
    "def _med_even(nums):\n",
    "    \"\"\"\n",
    "    ===============================================\n",
    "     Description: Median of even-length list\n",
    "    -----------------------------------------------\n",
    "         1. The Median is the mean of two middle\n",
    "             values of thes list.\n",
    "    ===============================================\n",
    "     Arguments: nums (list of int)\n",
    "    ===============================================\n",
    "     Returns: float (Median of the list)\n",
    "    ===============================================\n",
    "    \"\"\"\n",
    "    high = len(nums)/2\n",
    "    low = high - 1\n",
    "    return mean([high,low])\n",
    "\n",
    "def _med_odd(nums):\n",
    "    \"\"\"\n",
    "    ===================================================\n",
    "     Description: Median of odd-length list\n",
    "    ---------------------------------------------------\n",
    "         1. The Median is the middle value of the list\n",
    "    ===================================================\n",
    "     Arguments: nums (list of int)\n",
    "    ===================================================\n",
    "     Returns: float (Median of the list)\n",
    "    ===================================================\n",
    "    \"\"\"\n",
    "    return nums[len(nums)//2]\n",
    "\n",
    "nums = [1,2,3,4,5]\n",
    "print(med(nums))"
   ]
  },
  {
   "cell_type": "code",
   "execution_count": 22,
   "metadata": {},
   "outputs": [
    {
     "name": "stdout",
     "output_type": "stream",
     "text": [
      "Variance of [1, 2, 3] is 0.6666666666666666\n"
     ]
    }
   ],
   "source": [
    "def var(nums):\n",
    "    u = mean(nums)\n",
    "    # devs = list of deviations from the mean\n",
    "    devs = [abs(num-u) for num in nums]\n",
    "    return mean(devs)\n",
    "\n",
    "nums = [1,2,3]\n",
    "print('Variance of {} is {}'.format(nums,var(nums)))"
   ]
  }
 ],
 "metadata": {
  "kernelspec": {
   "display_name": "Python 3",
   "language": "python",
   "name": "python3"
  },
  "language_info": {
   "codemirror_mode": {
    "name": "ipython",
    "version": 3
   },
   "file_extension": ".py",
   "mimetype": "text/x-python",
   "name": "python",
   "nbconvert_exporter": "python",
   "pygments_lexer": "ipython3",
   "version": "3.6.6"
  }
 },
 "nbformat": 4,
 "nbformat_minor": 2
}
