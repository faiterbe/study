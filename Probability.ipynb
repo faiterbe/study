{
 "cells": [
  {
   "cell_type": "markdown",
   "metadata": {},
   "source": [
    "### Probability"
   ]
  },
  {
   "cell_type": "code",
   "execution_count": 62,
   "metadata": {},
   "outputs": [],
   "source": [
    "def prob(world, cur):\n",
    "    return len(set.intersection(world,cur)) / len(world)"
   ]
  },
  {
   "cell_type": "markdown",
   "metadata": {},
   "source": [
    "##### Example:"
   ]
  },
  {
   "cell_type": "code",
   "execution_count": 61,
   "metadata": {},
   "outputs": [
    {
     "name": "stdout",
     "output_type": "stream",
     "text": [
      "{0, 1, 2, 3, 4}\n",
      "{2}\n"
     ]
    },
    {
     "data": {
      "text/plain": [
       "0.2"
      ]
     },
     "execution_count": 61,
     "metadata": {},
     "output_type": "execute_result"
    }
   ],
   "source": [
    "world = set(range(5))\n",
    "cur = {2}\n",
    "print(world)\n",
    "print(cur)\n",
    "prob(world,cur)"
   ]
  },
  {
   "cell_type": "markdown",
   "metadata": {},
   "source": [
    "### Probability Union"
   ]
  },
  {
   "cell_type": "code",
   "execution_count": 60,
   "metadata": {},
   "outputs": [],
   "source": [
    "def prob_union(world,sets):\n",
    "    counter = 0\n",
    "    for cur in sets:\n",
    "        counter += prob(world,cur)\n",
    "    return counter"
   ]
  },
  {
   "cell_type": "markdown",
   "metadata": {},
   "source": [
    "##### Example:"
   ]
  },
  {
   "cell_type": "code",
   "execution_count": 59,
   "metadata": {},
   "outputs": [
    {
     "name": "stdout",
     "output_type": "stream",
     "text": [
      "{0, 1, 2, 3, 4}\n",
      "{2}\n",
      "{3}\n"
     ]
    },
    {
     "data": {
      "text/plain": [
       "0.4"
      ]
     },
     "execution_count": 59,
     "metadata": {},
     "output_type": "execute_result"
    }
   ],
   "source": [
    "world = set(range(5))\n",
    "sets = list()\n",
    "sets.append({2})\n",
    "sets.append({3})\n",
    "\n",
    "print(world)\n",
    "for cur in sets:\n",
    "    print(cur)\n",
    "    \n",
    "prob_union(world,sets)"
   ]
  },
  {
   "cell_type": "markdown",
   "metadata": {},
   "source": [
    "### Probability Intersection"
   ]
  },
  {
   "cell_type": "code",
   "execution_count": 58,
   "metadata": {},
   "outputs": [],
   "source": [
    "def prob_intersect(world,sets):\n",
    "    sets.append(world)\n",
    "    intersect = set()\n",
    "    for cur in sets:\n",
    "        if intersect:            \n",
    "            intersect = set.intersection(intersect,cur)\n",
    "        else:\n",
    "            intersect = cur\n",
    "        \n",
    "    return len(intersect) / len(world)"
   ]
  },
  {
   "cell_type": "markdown",
   "metadata": {},
   "source": [
    "##### Example:"
   ]
  },
  {
   "cell_type": "code",
   "execution_count": 57,
   "metadata": {},
   "outputs": [
    {
     "name": "stdout",
     "output_type": "stream",
     "text": [
      "{0, 1, 2, 3, 4}\n",
      "{1, 3, 5, 7}\n",
      "{2, 3, 4}\n"
     ]
    },
    {
     "data": {
      "text/plain": [
       "0.2"
      ]
     },
     "execution_count": 57,
     "metadata": {},
     "output_type": "execute_result"
    }
   ],
   "source": [
    "world = set(range(5))\n",
    "sets = list()\n",
    "sets.append({1,3,5,7})\n",
    "sets.append({2,3,4})\n",
    "\n",
    "print(world)\n",
    "for cur in sets:\n",
    "    print(cur)\n",
    "    \n",
    "prob_intersect(world,sets)"
   ]
  },
  {
   "cell_type": "markdown",
   "metadata": {},
   "source": [
    "### Conditional Probability"
   ]
  },
  {
   "cell_type": "code",
   "execution_count": 32,
   "metadata": {},
   "outputs": [],
   "source": [
    "def prob_conditional(world,set_a,set_b):\n",
    "    return prob_intersect(world,[set_a,set_b]) / prob(world,set_b)"
   ]
  },
  {
   "cell_type": "markdown",
   "metadata": {},
   "source": [
    "##### Example:"
   ]
  },
  {
   "cell_type": "code",
   "execution_count": 56,
   "metadata": {},
   "outputs": [
    {
     "name": "stdout",
     "output_type": "stream",
     "text": [
      "{'010', '100', '001'}\n",
      "{'100'}\n",
      "{'010'}\n",
      "{'001'}\n",
      "0.3333333333333333\n",
      "0.5\n"
     ]
    }
   ],
   "source": [
    "world = {''.join([str(a),str(b),str(c)]) for a in range(2) for b in range(2) for c in range(2)}\n",
    "world = {x for x in world if x.count('1')==1}\n",
    "\n",
    "set_a = {'100'}\n",
    "set_b = {'010'}\n",
    "set_c = {'001'}\n",
    "\n",
    "print(world)\n",
    "print(set_a)\n",
    "print(set_b)\n",
    "print(set_c)\n",
    "\n",
    "print(prob(world,set_a))\n",
    "print(prob(world-set_b,set_a))"
   ]
  }
 ],
 "metadata": {
  "kernelspec": {
   "display_name": "Python 3",
   "language": "python",
   "name": "python3"
  },
  "language_info": {
   "codemirror_mode": {
    "name": "ipython",
    "version": 3
   },
   "file_extension": ".py",
   "mimetype": "text/x-python",
   "name": "python",
   "nbconvert_exporter": "python",
   "pygments_lexer": "ipython3",
   "version": "3.6.6"
  }
 },
 "nbformat": 4,
 "nbformat_minor": 2
}
